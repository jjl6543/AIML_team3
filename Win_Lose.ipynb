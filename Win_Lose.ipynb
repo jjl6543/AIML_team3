{
 "cells": [
  {
   "cell_type": "code",
   "execution_count": 96,
   "metadata": {},
   "outputs": [],
   "source": [
    "# Taking input from thhe user \n",
    "# Initializing possibilities to rock, paper and scissors \n",
    "\n",
    "\n",
    "# Taking input from thhe user \n",
    "# Initializing possibilities to rock, paper and scissors \n",
    "import random\n",
    "import numpy as np\n",
    "\n"
   ]
  },
  {
   "cell_type": "code",
   "execution_count": 95,
   "metadata": {},
   "outputs": [],
   "source": [
    "\n",
    "def get_computer_move():\n",
    "    \"\"\"\n",
    "    Using randint()m which is an inbuilt function of the random module in Python3, generate a number between (1,3)\n",
    "    where, 1 - Rock, 2 - Paper, 3 - Scissors\n",
    "    returns string representing what ai move (rock | paper | scissors)\n",
    "    \"\"\"\n",
    "    move = random.randint(1, 3)\n",
    "    if move == 1:\n",
    "        return 'rock'\n",
    "    elif move == 2:\n",
    "        return 'paper'\n",
    "    else:\n",
    "        return 'scissors'  \n"
   ]
  },
  {
   "cell_type": "code",
   "execution_count": 85,
   "metadata": {},
   "outputs": [],
   "source": [
    "def select_winner(computer_move, human_move):\n",
    "    \"\"\"\n",
    "    return: winner of the round\n",
    "    \"\"\"\n",
    "    if computer_move == human_move:\n",
    "        return 'tie'\n",
    "    if computer_move == 'rock':\n",
    "        if human_move == 'paper':\n",
    "            return 'human'\n",
    "        return 'computer'\n",
    "    elif computer_move == 'paper':\n",
    "        if human_move == 'rock':\n",
    "            return 'computer'\n",
    "        return 'human'\n",
    "    elif computer_move == 'scissors':\n",
    "        if human_move == 'paper':\n",
    "            return 'computer'\n",
    "        return 'human'"
   ]
  },
  {
   "cell_type": "code",
   "execution_count": 86,
   "metadata": {},
   "outputs": [],
   "source": [
    "def select_winner(computer_move, human_move):\n",
    "    \"\"\"\n",
    "    return: winner of the round\n",
    "    \"\"\"\n",
    "  \n",
    "    if computer_move == human_move:\n",
    "        return 'tie'\n",
    "    if computer_move == 'rock':\n",
    "        if human_move == 'paper':\n",
    "            return 'human'\n",
    "        return 'computer'\n",
    "    elif computer_move == 'paper':\n",
    "        if human_move == 'rock':\n",
    "            return 'computer'\n",
    "        return 'human'\n",
    "    elif computer_move == 'scissors':\n",
    "        if human_move == 'paper':\n",
    "            return 'computer'\n",
    "        return 'human'\n"
   ]
  },
  {
   "cell_type": "code",
   "execution_count": 87,
   "metadata": {},
   "outputs": [],
   "source": [
    "def update_scores(winner):\n",
    "    \"\"\"\n",
    "    returns updated total scores\n",
    "    \"\"\"\n",
    "    global total_computer_score\n",
    "    global total_human_score\n",
    "    if (winner == 'human'):\n",
    "        total_human_score += 1\n",
    "        total_computer_score += 0\n",
    "    if (winner == 'computer'):\n",
    "        total_human_score += 0\n",
    "        total_computer_score += 1\n",
    "    if (winner == 'tie'):\n",
    "        total_human_score += 0\n",
    "        total_computer_score += 0\n",
    "        \n",
    "    return total_human_score, total_computer_score"
   ]
  },
  {
   "cell_type": "code",
   "execution_count": 88,
   "metadata": {},
   "outputs": [],
   "source": [
    "def get_ai_move(computer_move, human_move, a):\n",
    "    '''\n",
    "    To Do: Implement the win-stay, lose-shift or the win-shift, lose-shift strategy\n",
    "    '''\n",
    "    poss = ['rock', 'paper', 'scissors']\n",
    "    winner = select_winner(computer_move, human_move)\n",
    "    # Win Stay, lose shift (tie stay)\n",
    "    if a == 1:\n",
    "        \n",
    "        if winner == 'tie':\n",
    "            return human_move\n",
    "        \n",
    "        elif winner == 'computer':\n",
    "            return computer_move\n",
    "\n",
    "        elif winner == 'human':\n",
    "            index = poss.index(human_move)\n",
    "            return poss[index - 2]\n",
    "    \n",
    "    # Win Shift Lose shift (tie stay)\n",
    "    else:\n",
    "        \n",
    "        if winner == 'tie':\n",
    "            return human_move\n",
    "        \n",
    "        elif winner == 'computer':\n",
    "            return human_move\n",
    "\n",
    "        elif winner == 'human':\n",
    "            index = poss.index(human_move)\n",
    "            return poss[index - 2]"
   ]
  },
  {
   "cell_type": "code",
   "execution_count": 89,
   "metadata": {},
   "outputs": [],
   "source": [
    "def save_data(hm, cm):\n",
    "    '''\n",
    "    This function collects data \n",
    "    '''\n",
    "    global data\n",
    "    data = []\n",
    "    data.append([hm,cm])"
   ]
  },
  {
   "cell_type": "code",
   "execution_count": 90,
   "metadata": {},
   "outputs": [],
   "source": [
    "  \n",
    "def playgame():\n",
    "    \n",
    "    global total_computer_score\n",
    "    global total_human_score\n",
    "    global labels\n",
    "    global labels2\n",
    "    global data\n",
    "    global count\n",
    "    count = 0\n",
    "    data = []\n",
    "    total_human_score = 0\n",
    "    total_computer_score = 0"
   ]
  },
  {
   "cell_type": "code",
   "execution_count": 79,
   "metadata": {},
   "outputs": [
    {
     "name": "stdout",
     "output_type": "stream",
     "text": [
      "Human move is\t scissors\n",
      "Computer's move is\t scissors\n",
      "tie\n"
     ]
    }
   ],
   "source": [
    "playgame()\n",
    "poss = ['rock', 'paper', 'scissors']\n",
    "\n",
    "trials = int(input(\"Enter number of rounds\\n\"))\n",
    "for i in range (trials):\n",
    "    \n",
    "    choice = input(\" Choose Rock, paper or Sciccors:\\nRock: R\\nPaper: P\\nScissors: S\\n\")\n",
    "    if choice == 'R':\n",
    "        choice = 'rock'\n",
    "        \n",
    "    elif choice == 'P':\n",
    "        choice = 'paper'\n",
    "        \n",
    "    elif choice == 'S':\n",
    "        choice = 'scissors'\n",
    "        \n",
    "    else:\n",
    "        print(\"Invalid option selected \")\n",
    "        quit()\n",
    "        \n",
    "    if i == 0:\n",
    "        comp_move = get_computer_move()\n",
    "    else:\n",
    "        \n",
    "        # a = 1 represents win stay lose shift\n",
    "        # a = 2 represents win shift lose shift\n",
    "        a = 1\n",
    "        comp_move = get_ai_move(comp_move, choice, a)\n",
    "\n",
    "    #print(\"Human move is\\t\", choice)\n",
    "\n",
    "    \n",
    "    #print(\"Computer's move is\\t\", comp_move)\n",
    "\n",
    "    winner = select_winner(comp_move, choice)\n",
    "    update_scores(winner)\n",
    "    print(\"Winner is \", winner)\n",
    "\n",
    "#print(select_winner('paper', 'rock'))\n"
   ]
  },
  {
   "cell_type": "code",
   "execution_count": 94,
   "metadata": {},
   "outputs": [
    {
     "name": "stdout",
     "output_type": "stream",
     "text": [
      "Computer's next move is rock\n",
      "Winner is computer\n"
     ]
    }
   ],
   "source": [
    "#First round\n",
    "\n",
    "comp_move = 'paper'\n",
    "human_move = 'rock'\n",
    "a = 2 # Win Stay, lose shift (tie stay)\n",
    "next = get_ai_move(comp_move, human_move, a)\n",
    "print(\"Computer's next move is\", next)\n",
    "human_move = 'scissors'\n",
    "winner = select_winner(next, human_move)\n",
    "print('Winner is', winner)\n",
    "\n"
   ]
  },
  {
   "cell_type": "code",
   "execution_count": 104,
   "metadata": {},
   "outputs": [
    {
     "ename": "NameError",
     "evalue": "name 'prediction' is not defined",
     "output_type": "error",
     "traceback": [
      "\u001b[1;31m---------------------------------------------------------------------------\u001b[0m",
      "\u001b[1;31mNameError\u001b[0m                                 Traceback (most recent call last)",
      "Cell \u001b[1;32mIn [104], line 22\u001b[0m\n\u001b[0;32m     20\u001b[0m s1 \u001b[39m=\u001b[39m State(human, name\u001b[39m=\u001b[39m\u001b[39m\"\u001b[39m\u001b[39mhuman\u001b[39m\u001b[39m\"\u001b[39m)\n\u001b[0;32m     21\u001b[0m s2 \u001b[39m=\u001b[39m State(computer, name\u001b[39m=\u001b[39m\u001b[39m\"\u001b[39m\u001b[39mcomputer\u001b[39m\u001b[39m\"\u001b[39m)\n\u001b[1;32m---> 22\u001b[0m s3 \u001b[39m=\u001b[39m State(prediction, name\u001b[39m=\u001b[39m\u001b[39m\"\u001b[39m\u001b[39mprediction\u001b[39m\u001b[39m\"\u001b[39m)\n\u001b[0;32m     23\u001b[0m model \u001b[39m=\u001b[39m BayesianNetwork(\u001b[39m\"\u001b[39m\u001b[39mRock Paper Scissors\u001b[39m\u001b[39m\"\u001b[39m)\n\u001b[0;32m     25\u001b[0m \u001b[39m# Add the three states to the network \u001b[39;00m\n",
      "\u001b[1;31mNameError\u001b[0m: name 'prediction' is not defined"
     ]
    }
   ],
   "source": [
    "import pandas as pd\n",
    "import numpy as np\n",
    "from pomegranate import *\n",
    "\n",
    "data = pd.read_csv(r'C:\\Users\\phili\\OneDrive - cve.iitism.ac.in\\Desktop\\Philip\\CMU\\Courses\\Spring 23\\Machine Learning and AI\\Assignments\\Team Projects\\Assignment 1\\Final Submissions\\final_rps.csv')\n",
    "player_a = data['Player_A'].values \n",
    "player_b = data['Player_B'].values \n",
    "player_a_next = data['Player_A_NE'].values \n",
    "moves = [player_a,player_b,player_a_next]\n",
    "moves = np.array(moves)\n",
    "moves = moves.T\n",
    "moves[0,0] = \"human\"\n",
    "moves[0,1] = \"computer\"\n",
    "moves[0, 2] = \"prediction\"\n",
    "# Assume human samples from a categorical distribution comprising of 3 outcomes, each of which are equally likely \n",
    "human = DiscreteDistribution({'rock': 1./3, 'paper': 1./3, 'scissors': 1./3})\n",
    "\n",
    "# Assume computer samples from a categorical distribution comprising of 3 outcomes, each of which are equally likely \n",
    "computer = DiscreteDistribution({'rock': 1./3, 'paper': 1./3, 'scissors': 1./3})\n",
    "s1 = State(human, name=\"human\")\n",
    "s2 = State(computer, name=\"computer\")\n",
    "s3 = State(prediction, name=\"prediction\")\n",
    "model = BayesianNetwork(\"Rock Paper Scissors\")\n",
    "\n",
    "# Add the three states to the network \n",
    "model.add_states(s1, s2, s3)\n",
    "\n",
    "# Add edges which represent conditional dependencies, where the prediction node is \n",
    "# conditionally dependent on its parent nodes (Prediction is dependent on both human and computer moves)\n",
    "model.add_edge(s1, s3)\n",
    "model.add_edge(s2, s3)\n",
    "\n",
    "# Finalize the Bayesian Network\n",
    "model.bake()\n",
    "fit = model.fit(moves)"
   ]
  }
 ],
 "metadata": {
  "kernelspec": {
   "display_name": "Python 3",
   "language": "python",
   "name": "python3"
  },
  "language_info": {
   "codemirror_mode": {
    "name": "ipython",
    "version": 3
   },
   "file_extension": ".py",
   "mimetype": "text/x-python",
   "name": "python",
   "nbconvert_exporter": "python",
   "pygments_lexer": "ipython3",
   "version": "3.9.7"
  },
  "orig_nbformat": 4,
  "vscode": {
   "interpreter": {
    "hash": "52fcb49ca51edcae06163c22745fa58bc2bb07c8148a8dd951234e1ef7ab963e"
   }
  }
 },
 "nbformat": 4,
 "nbformat_minor": 2
}
